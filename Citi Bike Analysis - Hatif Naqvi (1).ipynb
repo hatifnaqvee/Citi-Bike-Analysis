{
 "cells": [
  {
   "cell_type": "markdown",
   "metadata": {},
   "source": [
    "# Project: Investigating NYC Citibike Dataset (2016-2017)\n",
    "\n",
    "## Table of Contents\n",
    "<ul>\n",
    "<li><a href=\"#intro\">Introduction</a></li>\n",
    "<li><a href=\"#wrangling\">Data Wrangling</a></li>\n",
    "<li><a href=\"#eda\">Exploratory Data Analysis</a></li>\n",
    "<li><a href=\"#conclusions\">Conclusions</a></li>\n",
    "</ul>\n"
   ]
  },
  {
   "cell_type": "markdown",
   "metadata": {},
   "source": [
    "## Introduction\n",
    "\n",
    "### Dataset Description \n",
    "\n",
    "This dataset collects information\n",
    "from Citibike useage across NYC. The data\n",
    "includes individual rides by users as well\n",
    "as station useage where citibikes are set up.\n",
    "\n",
    "Alta Bicycle Share, the company that owns and operates the Citi Bike program, is facing some unexpected financial difficulties as a result of dropping sponsorship revenue for the bike share program. Faced with a revenue shortfall, Alta would like you to mine the Citi Bike stations and trips data to come up with solutions and projected revenue impact. Alternatively, you could investigate ways to reduce expenses without impacting ride volume too negatively.\n",
    "\n",
    "- User Type (Customer = 24-hour pass or 3-day pass user; Subscriber = Annual Member)\n",
    "- Gender (unknown, male, female)\n",
    "\n",
    "\n",
    "### Exploration for Analysis\n",
    "- Trip Length\n",
    "- What day of the week, time, and months have the most users of the bikes\n",
    "- Age\n",
    "- Stations Analysis"
   ]
  },
  {
   "cell_type": "markdown",
   "metadata": {},
   "source": [
    "<a id='wrangling'></a>\n",
    "## Data Wrangling\n",
    "\n",
    "> In this section of the report, I will load in the data, check for cleanliness, and trim and clean"
   ]
  },
  {
   "cell_type": "code",
   "execution_count": 4,
   "metadata": {},
   "outputs": [],
   "source": [
    "#import packages\n",
    "import pandas as pd\n",
    "import numpy as np\n",
    "import matplotlib.pyplot as plt\n",
    "import seaborn as sns"
   ]
  },
  {
   "cell_type": "code",
   "execution_count": 5,
   "metadata": {},
   "outputs": [],
   "source": [
    "#import google cloud package to retrieve bigquery public data\n",
    "import google.cloud\n",
    "from google.cloud import bigquery"
   ]
  },
  {
   "cell_type": "code",
   "execution_count": 6,
   "metadata": {},
   "outputs": [],
   "source": [
    "#Setting an environment variable for GOOGLE_APPLICATION_CREDENTIALS\n",
    "import os\n",
    "credential_path = \"/Users/hatif/downloads/helpful-scion-339004-74102e1e0570.json\"\n",
    "os.environ['GOOGLE_APPLICATION_CREDENTIALS'] = credential_path"
   ]
  },
  {
   "cell_type": "code",
   "execution_count": 7,
   "metadata": {},
   "outputs": [],
   "source": [
    "#initialize a client\n",
    "client = bigquery.Client()"
   ]
  },
  {
   "cell_type": "code",
   "execution_count": 8,
   "metadata": {},
   "outputs": [],
   "source": [
    "#import the data using a sql query and convert it to a dataframe\n",
    "bigquery_client = bigquery.Client()\n",
    "QUERY = \"\"\"\n",
    "select *\n",
    "from `bigquery-public-data.new_york_citibike.citibike_trips`\n",
    "where (EXTRACT(YEAR FROM starttime)>= 2016 and EXTRACT(YEAR FROM starttime)<= 2017) and\n",
    "(EXTRACT(YEAR FROM stoptime) >= 2016 and EXTRACT(YEAR FROM stoptime) <= 2017)\n",
    "\"\"\"\n",
    "Query_Results = bigquery_client.query(QUERY)\n",
    "df = Query_Results.to_dataframe()"
   ]
  },
  {
   "cell_type": "code",
   "execution_count": 9,
   "metadata": {},
   "outputs": [
    {
     "data": {
      "text/html": [
       "<div>\n",
       "<style scoped>\n",
       "    .dataframe tbody tr th:only-of-type {\n",
       "        vertical-align: middle;\n",
       "    }\n",
       "\n",
       "    .dataframe tbody tr th {\n",
       "        vertical-align: top;\n",
       "    }\n",
       "\n",
       "    .dataframe thead th {\n",
       "        text-align: right;\n",
       "    }\n",
       "</style>\n",
       "<table border=\"1\" class=\"dataframe\">\n",
       "  <thead>\n",
       "    <tr style=\"text-align: right;\">\n",
       "      <th></th>\n",
       "      <th>tripduration</th>\n",
       "      <th>start_station_id</th>\n",
       "      <th>start_station_latitude</th>\n",
       "      <th>start_station_longitude</th>\n",
       "      <th>end_station_id</th>\n",
       "      <th>end_station_latitude</th>\n",
       "      <th>end_station_longitude</th>\n",
       "      <th>bikeid</th>\n",
       "      <th>birth_year</th>\n",
       "    </tr>\n",
       "  </thead>\n",
       "  <tbody>\n",
       "    <tr>\n",
       "      <th>count</th>\n",
       "      <td>24381275.00</td>\n",
       "      <td>24381275.00</td>\n",
       "      <td>24381275.00</td>\n",
       "      <td>24381275.00</td>\n",
       "      <td>24381275.00</td>\n",
       "      <td>24381275.00</td>\n",
       "      <td>24381275.00</td>\n",
       "      <td>24381275.0</td>\n",
       "      <td>21578847.00</td>\n",
       "    </tr>\n",
       "    <tr>\n",
       "      <th>mean</th>\n",
       "      <td>1007.36</td>\n",
       "      <td>1218.87</td>\n",
       "      <td>40.74</td>\n",
       "      <td>-73.99</td>\n",
       "      <td>1209.24</td>\n",
       "      <td>40.74</td>\n",
       "      <td>-73.99</td>\n",
       "      <td>22600.6</td>\n",
       "      <td>1978.51</td>\n",
       "    </tr>\n",
       "    <tr>\n",
       "      <th>std</th>\n",
       "      <td>13618.35</td>\n",
       "      <td>1282.02</td>\n",
       "      <td>0.06</td>\n",
       "      <td>0.10</td>\n",
       "      <td>1278.00</td>\n",
       "      <td>0.09</td>\n",
       "      <td>0.15</td>\n",
       "      <td>4998.0</td>\n",
       "      <td>11.75</td>\n",
       "    </tr>\n",
       "    <tr>\n",
       "      <th>min</th>\n",
       "      <td>61.00</td>\n",
       "      <td>72.00</td>\n",
       "      <td>0.00</td>\n",
       "      <td>-74.03</td>\n",
       "      <td>72.00</td>\n",
       "      <td>0.00</td>\n",
       "      <td>-74.09</td>\n",
       "      <td>14529.0</td>\n",
       "      <td>1874.00</td>\n",
       "    </tr>\n",
       "    <tr>\n",
       "      <th>25%</th>\n",
       "      <td>382.00</td>\n",
       "      <td>349.00</td>\n",
       "      <td>40.72</td>\n",
       "      <td>-74.00</td>\n",
       "      <td>348.00</td>\n",
       "      <td>40.72</td>\n",
       "      <td>-74.00</td>\n",
       "      <td>18194.0</td>\n",
       "      <td>1970.00</td>\n",
       "    </tr>\n",
       "    <tr>\n",
       "      <th>50%</th>\n",
       "      <td>639.00</td>\n",
       "      <td>476.00</td>\n",
       "      <td>40.74</td>\n",
       "      <td>-73.99</td>\n",
       "      <td>474.00</td>\n",
       "      <td>40.74</td>\n",
       "      <td>-73.99</td>\n",
       "      <td>22234.0</td>\n",
       "      <td>1981.00</td>\n",
       "    </tr>\n",
       "    <tr>\n",
       "      <th>75%</th>\n",
       "      <td>1101.00</td>\n",
       "      <td>3088.00</td>\n",
       "      <td>40.76</td>\n",
       "      <td>-73.98</td>\n",
       "      <td>3084.00</td>\n",
       "      <td>40.76</td>\n",
       "      <td>-73.98</td>\n",
       "      <td>26729.0</td>\n",
       "      <td>1988.00</td>\n",
       "    </tr>\n",
       "    <tr>\n",
       "      <th>max</th>\n",
       "      <td>9735948.00</td>\n",
       "      <td>3654.00</td>\n",
       "      <td>45.51</td>\n",
       "      <td>0.00</td>\n",
       "      <td>3654.00</td>\n",
       "      <td>45.51</td>\n",
       "      <td>0.00</td>\n",
       "      <td>33481.0</td>\n",
       "      <td>2001.00</td>\n",
       "    </tr>\n",
       "  </tbody>\n",
       "</table>\n",
       "</div>"
      ],
      "text/plain": [
       "       tripduration  start_station_id  start_station_latitude  \\\n",
       "count   24381275.00       24381275.00             24381275.00   \n",
       "mean        1007.36           1218.87                   40.74   \n",
       "std        13618.35           1282.02                    0.06   \n",
       "min           61.00             72.00                    0.00   \n",
       "25%          382.00            349.00                   40.72   \n",
       "50%          639.00            476.00                   40.74   \n",
       "75%         1101.00           3088.00                   40.76   \n",
       "max      9735948.00           3654.00                   45.51   \n",
       "\n",
       "       start_station_longitude  end_station_id  end_station_latitude  \\\n",
       "count              24381275.00     24381275.00           24381275.00   \n",
       "mean                    -73.99         1209.24                 40.74   \n",
       "std                       0.10         1278.00                  0.09   \n",
       "min                     -74.03           72.00                  0.00   \n",
       "25%                     -74.00          348.00                 40.72   \n",
       "50%                     -73.99          474.00                 40.74   \n",
       "75%                     -73.98         3084.00                 40.76   \n",
       "max                       0.00         3654.00                 45.51   \n",
       "\n",
       "       end_station_longitude      bikeid   birth_year  \n",
       "count            24381275.00  24381275.0  21578847.00  \n",
       "mean                  -73.99     22600.6      1978.51  \n",
       "std                     0.15      4998.0        11.75  \n",
       "min                   -74.09     14529.0      1874.00  \n",
       "25%                   -74.00     18194.0      1970.00  \n",
       "50%                   -73.99     22234.0      1981.00  \n",
       "75%                   -73.98     26729.0      1988.00  \n",
       "max                     0.00     33481.0      2001.00  "
      ]
     },
     "execution_count": 9,
     "metadata": {},
     "output_type": "execute_result"
    }
   ],
   "source": [
    "df.describe().round(2)\n",
    "#the max longitude is for the start station is 0 which makes no sense since 0 is in europe we will need to drop values\n",
    "#tripduration max value is 9million seconds which is also a huge outlier. we will need to drop values\n",
    "#the birth year min is also 1874 which can't be true since they're likely not alive\n",
    "#we need to convert timestampt to datetime"
   ]
  },
  {
   "cell_type": "code",
   "execution_count": 10,
   "metadata": {},
   "outputs": [
    {
     "data": {
      "text/html": [
       "<div>\n",
       "<style scoped>\n",
       "    .dataframe tbody tr th:only-of-type {\n",
       "        vertical-align: middle;\n",
       "    }\n",
       "\n",
       "    .dataframe tbody tr th {\n",
       "        vertical-align: top;\n",
       "    }\n",
       "\n",
       "    .dataframe thead th {\n",
       "        text-align: right;\n",
       "    }\n",
       "</style>\n",
       "<table border=\"1\" class=\"dataframe\">\n",
       "  <thead>\n",
       "    <tr style=\"text-align: right;\">\n",
       "      <th></th>\n",
       "      <th>tripduration</th>\n",
       "      <th>start_station_id</th>\n",
       "      <th>start_station_latitude</th>\n",
       "      <th>start_station_longitude</th>\n",
       "      <th>end_station_id</th>\n",
       "      <th>end_station_latitude</th>\n",
       "      <th>end_station_longitude</th>\n",
       "      <th>bikeid</th>\n",
       "      <th>birth_year</th>\n",
       "    </tr>\n",
       "  </thead>\n",
       "  <tbody>\n",
       "    <tr>\n",
       "      <th>count</th>\n",
       "      <td>24381234.00</td>\n",
       "      <td>24381234.00</td>\n",
       "      <td>24381234.00</td>\n",
       "      <td>24381234.00</td>\n",
       "      <td>24381234.00</td>\n",
       "      <td>24381234.00</td>\n",
       "      <td>24381234.00</td>\n",
       "      <td>24381234.00</td>\n",
       "      <td>21578811.00</td>\n",
       "    </tr>\n",
       "    <tr>\n",
       "      <th>mean</th>\n",
       "      <td>1007.35</td>\n",
       "      <td>1218.87</td>\n",
       "      <td>40.74</td>\n",
       "      <td>-73.99</td>\n",
       "      <td>1209.23</td>\n",
       "      <td>40.74</td>\n",
       "      <td>-73.99</td>\n",
       "      <td>22600.59</td>\n",
       "      <td>1978.51</td>\n",
       "    </tr>\n",
       "    <tr>\n",
       "      <th>std</th>\n",
       "      <td>13618.35</td>\n",
       "      <td>1282.01</td>\n",
       "      <td>0.03</td>\n",
       "      <td>0.02</td>\n",
       "      <td>1278.00</td>\n",
       "      <td>0.09</td>\n",
       "      <td>0.15</td>\n",
       "      <td>4998.00</td>\n",
       "      <td>11.75</td>\n",
       "    </tr>\n",
       "    <tr>\n",
       "      <th>min</th>\n",
       "      <td>61.00</td>\n",
       "      <td>72.00</td>\n",
       "      <td>40.45</td>\n",
       "      <td>-74.03</td>\n",
       "      <td>72.00</td>\n",
       "      <td>0.00</td>\n",
       "      <td>-74.09</td>\n",
       "      <td>14529.00</td>\n",
       "      <td>1874.00</td>\n",
       "    </tr>\n",
       "    <tr>\n",
       "      <th>25%</th>\n",
       "      <td>382.00</td>\n",
       "      <td>349.00</td>\n",
       "      <td>40.72</td>\n",
       "      <td>-74.00</td>\n",
       "      <td>348.00</td>\n",
       "      <td>40.72</td>\n",
       "      <td>-74.00</td>\n",
       "      <td>18194.00</td>\n",
       "      <td>1970.00</td>\n",
       "    </tr>\n",
       "    <tr>\n",
       "      <th>50%</th>\n",
       "      <td>639.00</td>\n",
       "      <td>476.00</td>\n",
       "      <td>40.74</td>\n",
       "      <td>-73.99</td>\n",
       "      <td>474.00</td>\n",
       "      <td>40.74</td>\n",
       "      <td>-73.99</td>\n",
       "      <td>22234.00</td>\n",
       "      <td>1981.00</td>\n",
       "    </tr>\n",
       "    <tr>\n",
       "      <th>75%</th>\n",
       "      <td>1101.00</td>\n",
       "      <td>3088.00</td>\n",
       "      <td>40.76</td>\n",
       "      <td>-73.98</td>\n",
       "      <td>3084.00</td>\n",
       "      <td>40.76</td>\n",
       "      <td>-73.98</td>\n",
       "      <td>26729.00</td>\n",
       "      <td>1988.00</td>\n",
       "    </tr>\n",
       "    <tr>\n",
       "      <th>max</th>\n",
       "      <td>9735948.00</td>\n",
       "      <td>3654.00</td>\n",
       "      <td>45.51</td>\n",
       "      <td>-73.57</td>\n",
       "      <td>3654.00</td>\n",
       "      <td>45.51</td>\n",
       "      <td>0.00</td>\n",
       "      <td>33481.00</td>\n",
       "      <td>2001.00</td>\n",
       "    </tr>\n",
       "  </tbody>\n",
       "</table>\n",
       "</div>"
      ],
      "text/plain": [
       "       tripduration  start_station_id  start_station_latitude  \\\n",
       "count   24381234.00       24381234.00             24381234.00   \n",
       "mean        1007.35           1218.87                   40.74   \n",
       "std        13618.35           1282.01                    0.03   \n",
       "min           61.00             72.00                   40.45   \n",
       "25%          382.00            349.00                   40.72   \n",
       "50%          639.00            476.00                   40.74   \n",
       "75%         1101.00           3088.00                   40.76   \n",
       "max      9735948.00           3654.00                   45.51   \n",
       "\n",
       "       start_station_longitude  end_station_id  end_station_latitude  \\\n",
       "count              24381234.00     24381234.00           24381234.00   \n",
       "mean                    -73.99         1209.23                 40.74   \n",
       "std                       0.02         1278.00                  0.09   \n",
       "min                     -74.03           72.00                  0.00   \n",
       "25%                     -74.00          348.00                 40.72   \n",
       "50%                     -73.99          474.00                 40.74   \n",
       "75%                     -73.98         3084.00                 40.76   \n",
       "max                     -73.57         3654.00                 45.51   \n",
       "\n",
       "       end_station_longitude       bikeid   birth_year  \n",
       "count            24381234.00  24381234.00  21578811.00  \n",
       "mean                  -73.99     22600.59      1978.51  \n",
       "std                     0.15      4998.00        11.75  \n",
       "min                   -74.09     14529.00      1874.00  \n",
       "25%                   -74.00     18194.00      1970.00  \n",
       "50%                   -73.99     22234.00      1981.00  \n",
       "75%                   -73.98     26729.00      1988.00  \n",
       "max                     0.00     33481.00      2001.00  "
      ]
     },
     "execution_count": 10,
     "metadata": {},
     "output_type": "execute_result"
    }
   ],
   "source": [
    "#lets test to see if there were a handful of 0 values\n",
    "df = df.loc[df['start_station_longitude'] <-1]\n",
    "df.describe().round(2)\n",
    "\n",
    "#there were since max is now -73.57"
   ]
  },
  {
   "cell_type": "code",
   "execution_count": 11,
   "metadata": {},
   "outputs": [
    {
     "data": {
      "text/html": [
       "<div>\n",
       "<style scoped>\n",
       "    .dataframe tbody tr th:only-of-type {\n",
       "        vertical-align: middle;\n",
       "    }\n",
       "\n",
       "    .dataframe tbody tr th {\n",
       "        vertical-align: top;\n",
       "    }\n",
       "\n",
       "    .dataframe thead th {\n",
       "        text-align: right;\n",
       "    }\n",
       "</style>\n",
       "<table border=\"1\" class=\"dataframe\">\n",
       "  <thead>\n",
       "    <tr style=\"text-align: right;\">\n",
       "      <th></th>\n",
       "      <th>tripduration</th>\n",
       "      <th>start_station_id</th>\n",
       "      <th>start_station_latitude</th>\n",
       "      <th>start_station_longitude</th>\n",
       "      <th>end_station_id</th>\n",
       "      <th>end_station_latitude</th>\n",
       "      <th>end_station_longitude</th>\n",
       "      <th>bikeid</th>\n",
       "      <th>birth_year</th>\n",
       "    </tr>\n",
       "  </thead>\n",
       "  <tbody>\n",
       "    <tr>\n",
       "      <th>count</th>\n",
       "      <td>24128090.00</td>\n",
       "      <td>24128090.00</td>\n",
       "      <td>24128090.00</td>\n",
       "      <td>24128090.00</td>\n",
       "      <td>24128090.00</td>\n",
       "      <td>24128090.00</td>\n",
       "      <td>24128090.00</td>\n",
       "      <td>24128090.00</td>\n",
       "      <td>21485045.00</td>\n",
       "    </tr>\n",
       "    <tr>\n",
       "      <th>mean</th>\n",
       "      <td>802.81</td>\n",
       "      <td>1215.68</td>\n",
       "      <td>40.74</td>\n",
       "      <td>-73.99</td>\n",
       "      <td>1205.11</td>\n",
       "      <td>40.74</td>\n",
       "      <td>-73.99</td>\n",
       "      <td>22611.86</td>\n",
       "      <td>1978.51</td>\n",
       "    </tr>\n",
       "    <tr>\n",
       "      <th>std</th>\n",
       "      <td>573.46</td>\n",
       "      <td>1280.74</td>\n",
       "      <td>0.03</td>\n",
       "      <td>0.02</td>\n",
       "      <td>1276.34</td>\n",
       "      <td>0.06</td>\n",
       "      <td>0.09</td>\n",
       "      <td>4998.61</td>\n",
       "      <td>11.75</td>\n",
       "    </tr>\n",
       "    <tr>\n",
       "      <th>min</th>\n",
       "      <td>61.00</td>\n",
       "      <td>72.00</td>\n",
       "      <td>40.45</td>\n",
       "      <td>-74.03</td>\n",
       "      <td>72.00</td>\n",
       "      <td>0.00</td>\n",
       "      <td>-74.07</td>\n",
       "      <td>14529.00</td>\n",
       "      <td>1874.00</td>\n",
       "    </tr>\n",
       "    <tr>\n",
       "      <th>25%</th>\n",
       "      <td>380.00</td>\n",
       "      <td>349.00</td>\n",
       "      <td>40.72</td>\n",
       "      <td>-74.00</td>\n",
       "      <td>348.00</td>\n",
       "      <td>40.72</td>\n",
       "      <td>-74.00</td>\n",
       "      <td>18202.00</td>\n",
       "      <td>1970.00</td>\n",
       "    </tr>\n",
       "    <tr>\n",
       "      <th>50%</th>\n",
       "      <td>632.00</td>\n",
       "      <td>476.00</td>\n",
       "      <td>40.74</td>\n",
       "      <td>-73.99</td>\n",
       "      <td>474.00</td>\n",
       "      <td>40.74</td>\n",
       "      <td>-73.99</td>\n",
       "      <td>22269.00</td>\n",
       "      <td>1981.00</td>\n",
       "    </tr>\n",
       "    <tr>\n",
       "      <th>75%</th>\n",
       "      <td>1080.00</td>\n",
       "      <td>3087.00</td>\n",
       "      <td>40.76</td>\n",
       "      <td>-73.98</td>\n",
       "      <td>3082.00</td>\n",
       "      <td>40.76</td>\n",
       "      <td>-73.98</td>\n",
       "      <td>26737.00</td>\n",
       "      <td>1988.00</td>\n",
       "    </tr>\n",
       "    <tr>\n",
       "      <th>max</th>\n",
       "      <td>3599.00</td>\n",
       "      <td>3654.00</td>\n",
       "      <td>45.51</td>\n",
       "      <td>-73.57</td>\n",
       "      <td>3654.00</td>\n",
       "      <td>45.51</td>\n",
       "      <td>0.00</td>\n",
       "      <td>33481.00</td>\n",
       "      <td>2001.00</td>\n",
       "    </tr>\n",
       "  </tbody>\n",
       "</table>\n",
       "</div>"
      ],
      "text/plain": [
       "       tripduration  start_station_id  start_station_latitude  \\\n",
       "count   24128090.00       24128090.00             24128090.00   \n",
       "mean         802.81           1215.68                   40.74   \n",
       "std          573.46           1280.74                    0.03   \n",
       "min           61.00             72.00                   40.45   \n",
       "25%          380.00            349.00                   40.72   \n",
       "50%          632.00            476.00                   40.74   \n",
       "75%         1080.00           3087.00                   40.76   \n",
       "max         3599.00           3654.00                   45.51   \n",
       "\n",
       "       start_station_longitude  end_station_id  end_station_latitude  \\\n",
       "count              24128090.00     24128090.00           24128090.00   \n",
       "mean                    -73.99         1205.11                 40.74   \n",
       "std                       0.02         1276.34                  0.06   \n",
       "min                     -74.03           72.00                  0.00   \n",
       "25%                     -74.00          348.00                 40.72   \n",
       "50%                     -73.99          474.00                 40.74   \n",
       "75%                     -73.98         3082.00                 40.76   \n",
       "max                     -73.57         3654.00                 45.51   \n",
       "\n",
       "       end_station_longitude       bikeid   birth_year  \n",
       "count            24128090.00  24128090.00  21485045.00  \n",
       "mean                  -73.99     22611.86      1978.51  \n",
       "std                     0.09      4998.61        11.75  \n",
       "min                   -74.07     14529.00      1874.00  \n",
       "25%                   -74.00     18202.00      1970.00  \n",
       "50%                   -73.99     22269.00      1981.00  \n",
       "75%                   -73.98     26737.00      1988.00  \n",
       "max                     0.00     33481.00      2001.00  "
      ]
     },
     "execution_count": 11,
     "metadata": {},
     "output_type": "execute_result"
    }
   ],
   "source": [
    "#the average trip duration is about 1007 seconds on an excessive side an hour would be a long ride. we will remoe\n",
    "#all trip duration values more than an hour so more than 3600 seconds.\n",
    "df = df.loc[df['tripduration'] <3600]\n",
    "df.describe().round(2)"
   ]
  },
  {
   "cell_type": "code",
   "execution_count": 12,
   "metadata": {},
   "outputs": [],
   "source": [
    "#convert timestamp to a datetime value\n",
    "df['starttime'] = pd.to_datetime(df['starttime'])\n",
    "df['stoptime'] = pd.to_datetime(df['stoptime'])"
   ]
  },
  {
   "cell_type": "code",
   "execution_count": 13,
   "metadata": {},
   "outputs": [
    {
     "data": {
      "text/html": [
       "<div>\n",
       "<style scoped>\n",
       "    .dataframe tbody tr th:only-of-type {\n",
       "        vertical-align: middle;\n",
       "    }\n",
       "\n",
       "    .dataframe tbody tr th {\n",
       "        vertical-align: top;\n",
       "    }\n",
       "\n",
       "    .dataframe thead th {\n",
       "        text-align: right;\n",
       "    }\n",
       "</style>\n",
       "<table border=\"1\" class=\"dataframe\">\n",
       "  <thead>\n",
       "    <tr style=\"text-align: right;\">\n",
       "      <th></th>\n",
       "      <th>tripduration</th>\n",
       "      <th>start_station_id</th>\n",
       "      <th>start_station_latitude</th>\n",
       "      <th>start_station_longitude</th>\n",
       "      <th>end_station_id</th>\n",
       "      <th>end_station_latitude</th>\n",
       "      <th>end_station_longitude</th>\n",
       "      <th>bikeid</th>\n",
       "      <th>birth_year</th>\n",
       "    </tr>\n",
       "  </thead>\n",
       "  <tbody>\n",
       "    <tr>\n",
       "      <th>count</th>\n",
       "      <td>21232356.00</td>\n",
       "      <td>21232356.00</td>\n",
       "      <td>21232356.00</td>\n",
       "      <td>21232356.00</td>\n",
       "      <td>21232356.00</td>\n",
       "      <td>21232356.00</td>\n",
       "      <td>21232356.00</td>\n",
       "      <td>21232356.00</td>\n",
       "      <td>21232356.00</td>\n",
       "    </tr>\n",
       "    <tr>\n",
       "      <th>mean</th>\n",
       "      <td>746.50</td>\n",
       "      <td>1195.06</td>\n",
       "      <td>40.74</td>\n",
       "      <td>-73.99</td>\n",
       "      <td>1183.90</td>\n",
       "      <td>40.74</td>\n",
       "      <td>-73.99</td>\n",
       "      <td>22730.47</td>\n",
       "      <td>1978.93</td>\n",
       "    </tr>\n",
       "    <tr>\n",
       "      <th>std</th>\n",
       "      <td>534.67</td>\n",
       "      <td>1272.69</td>\n",
       "      <td>0.03</td>\n",
       "      <td>0.02</td>\n",
       "      <td>1267.88</td>\n",
       "      <td>0.06</td>\n",
       "      <td>0.09</td>\n",
       "      <td>5009.16</td>\n",
       "      <td>11.13</td>\n",
       "    </tr>\n",
       "    <tr>\n",
       "      <th>min</th>\n",
       "      <td>61.00</td>\n",
       "      <td>72.00</td>\n",
       "      <td>40.45</td>\n",
       "      <td>-74.03</td>\n",
       "      <td>72.00</td>\n",
       "      <td>0.00</td>\n",
       "      <td>-74.07</td>\n",
       "      <td>14529.00</td>\n",
       "      <td>1950.00</td>\n",
       "    </tr>\n",
       "    <tr>\n",
       "      <th>25%</th>\n",
       "      <td>362.00</td>\n",
       "      <td>349.00</td>\n",
       "      <td>40.72</td>\n",
       "      <td>-74.00</td>\n",
       "      <td>347.00</td>\n",
       "      <td>40.72</td>\n",
       "      <td>-74.00</td>\n",
       "      <td>18297.00</td>\n",
       "      <td>1971.00</td>\n",
       "    </tr>\n",
       "    <tr>\n",
       "      <th>50%</th>\n",
       "      <td>588.00</td>\n",
       "      <td>474.00</td>\n",
       "      <td>40.74</td>\n",
       "      <td>-73.99</td>\n",
       "      <td>472.00</td>\n",
       "      <td>40.74</td>\n",
       "      <td>-73.99</td>\n",
       "      <td>22586.00</td>\n",
       "      <td>1981.00</td>\n",
       "    </tr>\n",
       "    <tr>\n",
       "      <th>75%</th>\n",
       "      <td>978.00</td>\n",
       "      <td>3078.00</td>\n",
       "      <td>40.75</td>\n",
       "      <td>-73.98</td>\n",
       "      <td>3070.00</td>\n",
       "      <td>40.75</td>\n",
       "      <td>-73.98</td>\n",
       "      <td>26841.00</td>\n",
       "      <td>1988.00</td>\n",
       "    </tr>\n",
       "    <tr>\n",
       "      <th>max</th>\n",
       "      <td>3599.00</td>\n",
       "      <td>3654.00</td>\n",
       "      <td>45.51</td>\n",
       "      <td>-73.57</td>\n",
       "      <td>3654.00</td>\n",
       "      <td>45.51</td>\n",
       "      <td>0.00</td>\n",
       "      <td>33481.00</td>\n",
       "      <td>2001.00</td>\n",
       "    </tr>\n",
       "  </tbody>\n",
       "</table>\n",
       "</div>"
      ],
      "text/plain": [
       "       tripduration  start_station_id  start_station_latitude  \\\n",
       "count   21232356.00       21232356.00             21232356.00   \n",
       "mean         746.50           1195.06                   40.74   \n",
       "std          534.67           1272.69                    0.03   \n",
       "min           61.00             72.00                   40.45   \n",
       "25%          362.00            349.00                   40.72   \n",
       "50%          588.00            474.00                   40.74   \n",
       "75%          978.00           3078.00                   40.75   \n",
       "max         3599.00           3654.00                   45.51   \n",
       "\n",
       "       start_station_longitude  end_station_id  end_station_latitude  \\\n",
       "count              21232356.00     21232356.00           21232356.00   \n",
       "mean                    -73.99         1183.90                 40.74   \n",
       "std                       0.02         1267.88                  0.06   \n",
       "min                     -74.03           72.00                  0.00   \n",
       "25%                     -74.00          347.00                 40.72   \n",
       "50%                     -73.99          472.00                 40.74   \n",
       "75%                     -73.98         3070.00                 40.75   \n",
       "max                     -73.57         3654.00                 45.51   \n",
       "\n",
       "       end_station_longitude       bikeid   birth_year  \n",
       "count            21232356.00  21232356.00  21232356.00  \n",
       "mean                  -73.99     22730.47      1978.93  \n",
       "std                     0.09      5009.16        11.13  \n",
       "min                   -74.07     14529.00      1950.00  \n",
       "25%                   -74.00     18297.00      1971.00  \n",
       "50%                   -73.99     22586.00      1981.00  \n",
       "75%                   -73.98     26841.00      1988.00  \n",
       "max                     0.00     33481.00      2001.00  "
      ]
     },
     "execution_count": 13,
     "metadata": {},
     "output_type": "execute_result"
    }
   ],
   "source": [
    "#drop any birth values that are less than 1950 since most 70 years wouldn't be able to ride a bike\n",
    "df = df.loc[df['birth_year'] >=1950]\n",
    "df.describe().round(2)"
   ]
  },
  {
   "cell_type": "markdown",
   "metadata": {},
   "source": [
    "<a id='eda'></a>\n",
    "## Exploratory Data Analysis\n",
    "\n",
    "> Moving on to exploration. **Compute statistics** and **create visualizations** with the goal of addressing the research questions."
   ]
  },
  {
   "cell_type": "markdown",
   "metadata": {},
   "source": [
    "### Trip length"
   ]
  },
  {
   "cell_type": "code",
   "execution_count": 14,
   "metadata": {},
   "outputs": [
    {
     "data": {
      "text/html": [
       "<div>\n",
       "<style scoped>\n",
       "    .dataframe tbody tr th:only-of-type {\n",
       "        vertical-align: middle;\n",
       "    }\n",
       "\n",
       "    .dataframe tbody tr th {\n",
       "        vertical-align: top;\n",
       "    }\n",
       "\n",
       "    .dataframe thead th {\n",
       "        text-align: right;\n",
       "    }\n",
       "</style>\n",
       "<table border=\"1\" class=\"dataframe\">\n",
       "  <thead>\n",
       "    <tr style=\"text-align: right;\">\n",
       "      <th></th>\n",
       "      <th>tripduration</th>\n",
       "      <th>starttime</th>\n",
       "      <th>stoptime</th>\n",
       "      <th>start_station_id</th>\n",
       "      <th>start_station_name</th>\n",
       "      <th>start_station_latitude</th>\n",
       "      <th>start_station_longitude</th>\n",
       "      <th>end_station_id</th>\n",
       "      <th>end_station_name</th>\n",
       "      <th>end_station_latitude</th>\n",
       "      <th>end_station_longitude</th>\n",
       "      <th>bikeid</th>\n",
       "      <th>usertype</th>\n",
       "      <th>birth_year</th>\n",
       "      <th>gender</th>\n",
       "      <th>customer_plan</th>\n",
       "      <th>tripdurationminutes</th>\n",
       "    </tr>\n",
       "  </thead>\n",
       "  <tbody>\n",
       "    <tr>\n",
       "      <th>0</th>\n",
       "      <td>253</td>\n",
       "      <td>2016-06-07 15:21:24</td>\n",
       "      <td>2016-06-07 15:25:37</td>\n",
       "      <td>475</td>\n",
       "      <td>E 16 St &amp; Irving Pl</td>\n",
       "      <td>40.735243</td>\n",
       "      <td>-73.987586</td>\n",
       "      <td>345</td>\n",
       "      <td>W 13 St &amp; 6 Ave</td>\n",
       "      <td>40.736494</td>\n",
       "      <td>-73.997044</td>\n",
       "      <td>20614</td>\n",
       "      <td>Subscriber</td>\n",
       "      <td>1971.0</td>\n",
       "      <td>male</td>\n",
       "      <td></td>\n",
       "      <td>4.22</td>\n",
       "    </tr>\n",
       "    <tr>\n",
       "      <th>1</th>\n",
       "      <td>1513</td>\n",
       "      <td>2017-11-01 15:36:07</td>\n",
       "      <td>2017-11-01 16:01:21</td>\n",
       "      <td>3175</td>\n",
       "      <td>W 70 St &amp; Amsterdam Ave</td>\n",
       "      <td>40.777480</td>\n",
       "      <td>-73.982886</td>\n",
       "      <td>3151</td>\n",
       "      <td>E 81 St &amp; York Ave</td>\n",
       "      <td>40.772838</td>\n",
       "      <td>-73.949892</td>\n",
       "      <td>27066</td>\n",
       "      <td>Subscriber</td>\n",
       "      <td>1971.0</td>\n",
       "      <td>male</td>\n",
       "      <td></td>\n",
       "      <td>25.22</td>\n",
       "    </tr>\n",
       "    <tr>\n",
       "      <th>2</th>\n",
       "      <td>1647</td>\n",
       "      <td>2016-09-22 08:26:11</td>\n",
       "      <td>2016-09-22 08:53:39</td>\n",
       "      <td>3070</td>\n",
       "      <td>McKibbin St &amp; Manhattan Ave</td>\n",
       "      <td>40.705109</td>\n",
       "      <td>-73.944073</td>\n",
       "      <td>350</td>\n",
       "      <td>Clinton St &amp; Grand St</td>\n",
       "      <td>40.715595</td>\n",
       "      <td>-73.987030</td>\n",
       "      <td>22553</td>\n",
       "      <td>Subscriber</td>\n",
       "      <td>1971.0</td>\n",
       "      <td>female</td>\n",
       "      <td></td>\n",
       "      <td>27.45</td>\n",
       "    </tr>\n",
       "    <tr>\n",
       "      <th>3</th>\n",
       "      <td>420</td>\n",
       "      <td>2016-05-06 17:01:19</td>\n",
       "      <td>2016-05-06 17:08:19</td>\n",
       "      <td>238</td>\n",
       "      <td>Bank St &amp; Washington St</td>\n",
       "      <td>40.736197</td>\n",
       "      <td>-74.008592</td>\n",
       "      <td>238</td>\n",
       "      <td>Bank St &amp; Washington St</td>\n",
       "      <td>40.736197</td>\n",
       "      <td>-74.008592</td>\n",
       "      <td>22461</td>\n",
       "      <td>Subscriber</td>\n",
       "      <td>1971.0</td>\n",
       "      <td>male</td>\n",
       "      <td></td>\n",
       "      <td>7.00</td>\n",
       "    </tr>\n",
       "    <tr>\n",
       "      <th>4</th>\n",
       "      <td>1253</td>\n",
       "      <td>2016-05-11 18:44:36</td>\n",
       "      <td>2016-05-11 19:05:30</td>\n",
       "      <td>501</td>\n",
       "      <td>FDR Drive &amp; E 35 St</td>\n",
       "      <td>40.744219</td>\n",
       "      <td>-73.971212</td>\n",
       "      <td>336</td>\n",
       "      <td>Sullivan St &amp; Washington Sq</td>\n",
       "      <td>40.730477</td>\n",
       "      <td>-73.999061</td>\n",
       "      <td>18872</td>\n",
       "      <td>Subscriber</td>\n",
       "      <td>1971.0</td>\n",
       "      <td>female</td>\n",
       "      <td></td>\n",
       "      <td>20.88</td>\n",
       "    </tr>\n",
       "  </tbody>\n",
       "</table>\n",
       "</div>"
      ],
      "text/plain": [
       "   tripduration           starttime            stoptime  start_station_id  \\\n",
       "0           253 2016-06-07 15:21:24 2016-06-07 15:25:37               475   \n",
       "1          1513 2017-11-01 15:36:07 2017-11-01 16:01:21              3175   \n",
       "2          1647 2016-09-22 08:26:11 2016-09-22 08:53:39              3070   \n",
       "3           420 2016-05-06 17:01:19 2016-05-06 17:08:19               238   \n",
       "4          1253 2016-05-11 18:44:36 2016-05-11 19:05:30               501   \n",
       "\n",
       "            start_station_name  start_station_latitude  \\\n",
       "0          E 16 St & Irving Pl               40.735243   \n",
       "1      W 70 St & Amsterdam Ave               40.777480   \n",
       "2  McKibbin St & Manhattan Ave               40.705109   \n",
       "3      Bank St & Washington St               40.736197   \n",
       "4          FDR Drive & E 35 St               40.744219   \n",
       "\n",
       "   start_station_longitude  end_station_id             end_station_name  \\\n",
       "0               -73.987586             345              W 13 St & 6 Ave   \n",
       "1               -73.982886            3151           E 81 St & York Ave   \n",
       "2               -73.944073             350        Clinton St & Grand St   \n",
       "3               -74.008592             238      Bank St & Washington St   \n",
       "4               -73.971212             336  Sullivan St & Washington Sq   \n",
       "\n",
       "   end_station_latitude  end_station_longitude  bikeid    usertype  \\\n",
       "0             40.736494             -73.997044   20614  Subscriber   \n",
       "1             40.772838             -73.949892   27066  Subscriber   \n",
       "2             40.715595             -73.987030   22553  Subscriber   \n",
       "3             40.736197             -74.008592   22461  Subscriber   \n",
       "4             40.730477             -73.999061   18872  Subscriber   \n",
       "\n",
       "   birth_year  gender customer_plan  tripdurationminutes  \n",
       "0      1971.0    male                               4.22  \n",
       "1      1971.0    male                              25.22  \n",
       "2      1971.0  female                              27.45  \n",
       "3      1971.0    male                               7.00  \n",
       "4      1971.0  female                              20.88  "
      ]
     },
     "execution_count": 14,
     "metadata": {},
     "output_type": "execute_result"
    }
   ],
   "source": [
    "#we have to create a new column that measures duration in minutes\n",
    "df['tripdurationminutes'] = (df['tripduration']/60).round(2)\n",
    "df.head(5)"
   ]
  },
  {
   "cell_type": "code",
   "execution_count": 58,
   "metadata": {},
   "outputs": [
    {
     "data": {
      "text/plain": [
       "12.441732343315993"
      ]
     },
     "execution_count": 58,
     "metadata": {},
     "output_type": "execute_result"
    }
   ],
   "source": [
    "df['tripdurationminutes'].mean()"
   ]
  },
  {
   "cell_type": "code",
   "execution_count": 16,
   "metadata": {},
   "outputs": [
    {
     "data": {
      "text/plain": [
       "<seaborn.axisgrid.FacetGrid at 0x7fea47e07670>"
      ]
     },
     "execution_count": 16,
     "metadata": {},
     "output_type": "execute_result"
    },
    {
     "data": {
      "image/png": "[encoded data removed]",
      "text/plain": [
       "<Figure size 720x360 with 1 Axes>"
      ]
     },
     "metadata": {
      "needs_background": "light"
     },
     "output_type": "display_data"
    }
   ],
   "source": [
    "#plot disribution of trip lengths\n",
    "sns.displot(data=df,kind=\"hist\", x=\"tripdurationminutes\", bins=range(1,61), aspect=8/4)"
   ]
  },
  {
   "cell_type": "code",
   "execution_count": 19,
   "metadata": {},
   "outputs": [
    {
     "data": {
      "text/plain": [
       "<seaborn.axisgrid.FacetGrid at 0x7fe838a19220>"
      ]
     },
     "execution_count": 19,
     "metadata": {},
     "output_type": "execute_result"
    },
    {
     "data": {
      "image/png": "[encoded data removed]",
      "text/plain": [
       "<Figure size 801.375x360 with 1 Axes>"
      ]
     },
     "metadata": {
      "needs_background": "light"
     },
     "output_type": "display_data"
    }
   ],
   "source": [
    "#plot the distribution of ttrip lengths by usertype\n",
    "sns.displot(data=df,kind=\"hist\", x=\"tripdurationminutes\", hue='gender', multiple='stack',bins=range(1,61), aspect=8/4)\n",
    "\n",
    "### primary riding group are men"
   ]
  },
  {
   "cell_type": "code",
   "execution_count": 20,
   "metadata": {},
   "outputs": [
    {
     "data": {
      "text/plain": [
       "<seaborn.axisgrid.FacetGrid at 0x7fe838ff5280>"
      ]
     },
     "execution_count": 20,
     "metadata": {},
     "output_type": "execute_result"
    },
    {
     "data": {
      "image/png": "[encoded data removed]",
      "text/plain": [
       "<Figure size 809.125x360 with 1 Axes>"
      ]
     },
     "metadata": {
      "needs_background": "light"
     },
     "output_type": "display_data"
    }
   ],
   "source": [
    "sns.displot(data=df,kind=\"hist\", x=\"tripdurationminutes\", hue='usertype', multiple='stack',bins=range(1,61), aspect=8/4)\n",
    "### primary riders are Subscribers who pay a yearly fee"
   ]
  },
  {
   "cell_type": "markdown",
   "metadata": {},
   "source": [
    "### What day of the week, time, and months have the most users of the bikes?"
   ]
  },
  {
   "cell_type": "code",
   "execution_count": 12,
   "metadata": {},
   "outputs": [],
   "source": [
    "#first we create a column value for the start hour, day, and month\n",
    "df['starthour']=df['starttime'].dt.hour.astype('category')\n",
    "df['startday']=df['starttime'].dt.day.astype('category')\n",
    "df['startmonth']=df['starttime'].dt.month.astype('category')"
   ]
  },
  {
   "cell_type": "code",
   "execution_count": 13,
   "metadata": {},
   "outputs": [
    {
     "data": {
      "text/plain": [
       "Text(0.5, 1.0, 'Number of Riders by the Hour')"
      ]
     },
     "execution_count": 13,
     "metadata": {},
     "output_type": "execute_result"
    },
    {
     "data": {
      "image/png": "[encoded data removed]",
      "text/plain": [
       "<Figure size 576x360 with 1 Axes>"
      ]
     },
     "metadata": {
      "needs_background": "light"
     },
     "output_type": "display_data"
    }
   ],
   "source": [
    "#visualizing the number of riders per hour\n",
    "fig, ax = plt.subplots(figsize=(8, 5))  \n",
    "h = sns.countplot(data=df, x=\"starthour\", palette =\"Paired\")\n",
    "ax.set(xlabel=\"Hour\", ylabel = \"Number of Riders\")\n",
    "plt.title(\"Number of Riders by the Hour\")\n",
    "\n",
    "### Looks like there is a high density of riders during early morning between 6 and 9, and the afternoon\n",
    "### and late evening from 3 to 7"
   ]
  },
  {
   "cell_type": "code",
   "execution_count": 14,
   "metadata": {},
   "outputs": [
    {
     "data": {
      "text/plain": [
       "Text(0.5, 1.0, 'Number of Riders by the Day')"
      ]
     },
     "execution_count": 14,
     "metadata": {},
     "output_type": "execute_result"
    },
    {
     "data": {
      "image/png": "[encoded data removed]",
      "text/plain": [
       "<Figure size 576x360 with 1 Axes>"
      ]
     },
     "metadata": {
      "needs_background": "light"
     },
     "output_type": "display_data"
    }
   ],
   "source": [
    "#visualizing the number of riders per day of a month\n",
    "fig, ax = plt.subplots(figsize=(8, 5))\n",
    "h = sns.countplot(data=df, x = 'startday', palette=\"Set3\")\n",
    "h.set(xlim = (0,31))\n",
    "ax.set(xlabel=\"Day\", ylabel = \"Number of Riders\")\n",
    "plt.title(\"Number of Riders by the Day\")\n",
    "\n",
    "### There is pretty consistent distribution of riders per day however, we should break this down into weekday vs weekend"
   ]
  },
  {
   "cell_type": "code",
   "execution_count": 15,
   "metadata": {},
   "outputs": [
    {
     "data": {
      "text/html": [
       "<div>\n",
       "<style scoped>\n",
       "    .dataframe tbody tr th:only-of-type {\n",
       "        vertical-align: middle;\n",
       "    }\n",
       "\n",
       "    .dataframe tbody tr th {\n",
       "        vertical-align: top;\n",
       "    }\n",
       "\n",
       "    .dataframe thead th {\n",
       "        text-align: right;\n",
       "    }\n",
       "</style>\n",
       "<table border=\"1\" class=\"dataframe\">\n",
       "  <thead>\n",
       "    <tr style=\"text-align: right;\">\n",
       "      <th></th>\n",
       "      <th>tripduration</th>\n",
       "      <th>starttime</th>\n",
       "      <th>stoptime</th>\n",
       "      <th>start_station_id</th>\n",
       "      <th>start_station_name</th>\n",
       "      <th>start_station_latitude</th>\n",
       "      <th>start_station_longitude</th>\n",
       "      <th>end_station_id</th>\n",
       "      <th>end_station_name</th>\n",
       "      <th>end_station_latitude</th>\n",
       "      <th>...</th>\n",
       "      <th>usertype</th>\n",
       "      <th>birth_year</th>\n",
       "      <th>gender</th>\n",
       "      <th>customer_plan</th>\n",
       "      <th>starthour</th>\n",
       "      <th>startday</th>\n",
       "      <th>startmonth</th>\n",
       "      <th>weekday</th>\n",
       "      <th>dayofweek</th>\n",
       "      <th>weekend</th>\n",
       "    </tr>\n",
       "  </thead>\n",
       "  <tbody>\n",
       "    <tr>\n",
       "      <th>0</th>\n",
       "      <td>1126</td>\n",
       "      <td>2017-06-11 09:32:56</td>\n",
       "      <td>2017-06-11 09:51:43</td>\n",
       "      <td>476</td>\n",
       "      <td>E 31 St &amp; 3 Ave</td>\n",
       "      <td>40.743943</td>\n",
       "      <td>-73.979661</td>\n",
       "      <td>79</td>\n",
       "      <td>Franklin St &amp; W Broadway</td>\n",
       "      <td>40.719116</td>\n",
       "      <td>...</td>\n",
       "      <td>Subscriber</td>\n",
       "      <td>1971.0</td>\n",
       "      <td>female</td>\n",
       "      <td></td>\n",
       "      <td>9</td>\n",
       "      <td>11</td>\n",
       "      <td>6</td>\n",
       "      <td>6</td>\n",
       "      <td>Sunday</td>\n",
       "      <td>True</td>\n",
       "    </tr>\n",
       "    <tr>\n",
       "      <th>1</th>\n",
       "      <td>286</td>\n",
       "      <td>2016-03-04 13:17:07</td>\n",
       "      <td>2016-03-04 13:21:53</td>\n",
       "      <td>345</td>\n",
       "      <td>W 13 St &amp; 6 Ave</td>\n",
       "      <td>40.736494</td>\n",
       "      <td>-73.997044</td>\n",
       "      <td>405</td>\n",
       "      <td>Washington St &amp; Gansevoort St</td>\n",
       "      <td>40.739323</td>\n",
       "      <td>...</td>\n",
       "      <td>Subscriber</td>\n",
       "      <td>1971.0</td>\n",
       "      <td>male</td>\n",
       "      <td></td>\n",
       "      <td>13</td>\n",
       "      <td>4</td>\n",
       "      <td>3</td>\n",
       "      <td>4</td>\n",
       "      <td>Friday</td>\n",
       "      <td>False</td>\n",
       "    </tr>\n",
       "    <tr>\n",
       "      <th>2</th>\n",
       "      <td>883</td>\n",
       "      <td>2017-05-17 16:20:06</td>\n",
       "      <td>2017-05-17 16:34:50</td>\n",
       "      <td>3409</td>\n",
       "      <td>Bergen St &amp; Smith St</td>\n",
       "      <td>40.686744</td>\n",
       "      <td>-73.990632</td>\n",
       "      <td>3348</td>\n",
       "      <td>Coffey St &amp; Conover St</td>\n",
       "      <td>40.677236</td>\n",
       "      <td>...</td>\n",
       "      <td>Subscriber</td>\n",
       "      <td>1971.0</td>\n",
       "      <td>female</td>\n",
       "      <td></td>\n",
       "      <td>16</td>\n",
       "      <td>17</td>\n",
       "      <td>5</td>\n",
       "      <td>2</td>\n",
       "      <td>Wednesday</td>\n",
       "      <td>False</td>\n",
       "    </tr>\n",
       "    <tr>\n",
       "      <th>3</th>\n",
       "      <td>365</td>\n",
       "      <td>2016-07-14 18:13:05</td>\n",
       "      <td>2016-07-14 18:19:10</td>\n",
       "      <td>442</td>\n",
       "      <td>W 27 St &amp; 7 Ave</td>\n",
       "      <td>40.746647</td>\n",
       "      <td>-73.993915</td>\n",
       "      <td>284</td>\n",
       "      <td>Greenwich Ave &amp; 8 Ave</td>\n",
       "      <td>40.739017</td>\n",
       "      <td>...</td>\n",
       "      <td>Subscriber</td>\n",
       "      <td>1971.0</td>\n",
       "      <td>male</td>\n",
       "      <td></td>\n",
       "      <td>18</td>\n",
       "      <td>14</td>\n",
       "      <td>7</td>\n",
       "      <td>3</td>\n",
       "      <td>Thursday</td>\n",
       "      <td>False</td>\n",
       "    </tr>\n",
       "    <tr>\n",
       "      <th>4</th>\n",
       "      <td>781</td>\n",
       "      <td>2016-09-12 08:51:57</td>\n",
       "      <td>2016-09-12 09:04:59</td>\n",
       "      <td>3170</td>\n",
       "      <td>W 84 St &amp; Columbus Ave</td>\n",
       "      <td>40.785000</td>\n",
       "      <td>-73.972834</td>\n",
       "      <td>137</td>\n",
       "      <td>E 56 St &amp; Madison Ave</td>\n",
       "      <td>40.761628</td>\n",
       "      <td>...</td>\n",
       "      <td>Subscriber</td>\n",
       "      <td>1971.0</td>\n",
       "      <td>male</td>\n",
       "      <td></td>\n",
       "      <td>8</td>\n",
       "      <td>12</td>\n",
       "      <td>9</td>\n",
       "      <td>0</td>\n",
       "      <td>Monday</td>\n",
       "      <td>False</td>\n",
       "    </tr>\n",
       "  </tbody>\n",
       "</table>\n",
       "<p>5 rows × 22 columns</p>\n",
       "</div>"
      ],
      "text/plain": [
       "   tripduration           starttime            stoptime  start_station_id  \\\n",
       "0          1126 2017-06-11 09:32:56 2017-06-11 09:51:43               476   \n",
       "1           286 2016-03-04 13:17:07 2016-03-04 13:21:53               345   \n",
       "2           883 2017-05-17 16:20:06 2017-05-17 16:34:50              3409   \n",
       "3           365 2016-07-14 18:13:05 2016-07-14 18:19:10               442   \n",
       "4           781 2016-09-12 08:51:57 2016-09-12 09:04:59              3170   \n",
       "\n",
       "       start_station_name  start_station_latitude  start_station_longitude  \\\n",
       "0         E 31 St & 3 Ave               40.743943               -73.979661   \n",
       "1         W 13 St & 6 Ave               40.736494               -73.997044   \n",
       "2    Bergen St & Smith St               40.686744               -73.990632   \n",
       "3         W 27 St & 7 Ave               40.746647               -73.993915   \n",
       "4  W 84 St & Columbus Ave               40.785000               -73.972834   \n",
       "\n",
       "   end_station_id               end_station_name  end_station_latitude  ...  \\\n",
       "0              79       Franklin St & W Broadway             40.719116  ...   \n",
       "1             405  Washington St & Gansevoort St             40.739323  ...   \n",
       "2            3348         Coffey St & Conover St             40.677236  ...   \n",
       "3             284          Greenwich Ave & 8 Ave             40.739017  ...   \n",
       "4             137          E 56 St & Madison Ave             40.761628  ...   \n",
       "\n",
       "     usertype  birth_year  gender  customer_plan starthour startday  \\\n",
       "0  Subscriber      1971.0  female                        9       11   \n",
       "1  Subscriber      1971.0    male                       13        4   \n",
       "2  Subscriber      1971.0  female                       16       17   \n",
       "3  Subscriber      1971.0    male                       18       14   \n",
       "4  Subscriber      1971.0    male                        8       12   \n",
       "\n",
       "  startmonth weekday  dayofweek weekend  \n",
       "0          6       6     Sunday    True  \n",
       "1          3       4     Friday   False  \n",
       "2          5       2  Wednesday   False  \n",
       "3          7       3   Thursday   False  \n",
       "4          9       0     Monday   False  \n",
       "\n",
       "[5 rows x 22 columns]"
      ]
     },
     "execution_count": 15,
     "metadata": {},
     "output_type": "execute_result"
    }
   ],
   "source": [
    "##visualizing the number of riders per day seperated by the weekend\n",
    "#create\n",
    "df['weekday']=df['starttime'].dt.weekday.astype('category')\n",
    "df['dayofweek'] = df['starttime'].dt.day_name()\n",
    "df['weekend'] = df['starttime'].dt.dayofweek >= 5\n",
    "df.head(5)"
   ]
  },
  {
   "cell_type": "code",
   "execution_count": 16,
   "metadata": {},
   "outputs": [
    {
     "data": {
      "text/plain": [
       "Text(0.5, 1.0, 'Number of Riders by Weekday')"
      ]
     },
     "execution_count": 16,
     "metadata": {},
     "output_type": "execute_result"
    },
    {
     "data": {
      "image/png": "[encoded data removed]",
      "text/plain": [
       "<Figure size 576x360 with 1 Axes>"
      ]
     },
     "metadata": {
      "needs_background": "light"
     },
     "output_type": "display_data"
    }
   ],
   "source": [
    "#visualizing the number of riders pby weekday, 0 is Monday and 5 and 6 are Saturday and Sunday \n",
    "fig, ax = plt.subplots(figsize=(8, 5))\n",
    "h = sns.countplot(data=df, x = 'weekday', hue ='weekend' ,palette=\"Set3\")\n",
    "ax.set(ylabel = \"Number of Riders\")\n",
    "#ax.set_xticklabels(df['dayofweek'])\n",
    "plt.title(\"Number of Riders by Weekday\")\n",
    "\n",
    "#we can see that weekdays the citibike are being used frequently but there is opportunity to incentivize it being\n",
    "#on the weekend"
   ]
  },
  {
   "cell_type": "code",
   "execution_count": 17,
   "metadata": {},
   "outputs": [
    {
     "data": {
      "text/plain": [
       "Text(0.5, 1.0, 'Number of Riders by the Month')"
      ]
     },
     "execution_count": 17,
     "metadata": {},
     "output_type": "execute_result"
    },
    {
     "data": {
      "image/png": "[encoded data removed]",
      "text/plain": [
       "<Figure size 576x360 with 1 Axes>"
      ]
     },
     "metadata": {
      "needs_background": "light"
     },
     "output_type": "display_data"
    }
   ],
   "source": [
    "#visualizing the number of riders per month\n",
    "fig, ax = plt.subplots(figsize=(8, 5))\n",
    "h = sns.countplot(data=df, x = 'startmonth', palette=\"Set3\")\n",
    "ax.set(xlabel=\"Month\", ylabel = \"Number of Riders\")\n",
    "plt.title(\"Number of Riders by the Month\")\n",
    "\n",
    "###the spring and summer months definitely get more activity due to the weather, longer days, and overall use."
   ]
  },
  {
   "cell_type": "markdown",
   "metadata": {},
   "source": [
    "### Age"
   ]
  },
  {
   "cell_type": "code",
   "execution_count": 23,
   "metadata": {},
   "outputs": [
    {
     "data": {
      "text/plain": [
       "<seaborn.axisgrid.FacetGrid at 0x7fe82fc6a760>"
      ]
     },
     "execution_count": 23,
     "metadata": {},
     "output_type": "execute_result"
    },
    {
     "data": {
      "image/png": "[encoded data removed]",
      "text/plain": [
       "<Figure size 720x360 with 1 Axes>"
      ]
     },
     "metadata": {
      "needs_background": "light"
     },
     "output_type": "display_data"
    }
   ],
   "source": [
    "#plot disribution of age based on riders\n",
    "sns.displot(data=df, x=\"birth_year\", bins=range(1950, 2002), aspect=8/4)\n",
    "\n",
    "###what we see is that the heavy riders are Gen Z and Millenials (1980 - 1996)"
   ]
  },
  {
   "cell_type": "code",
   "execution_count": 29,
   "metadata": {},
   "outputs": [
    {
     "data": {
      "text/plain": [
       "<seaborn.axisgrid.FacetGrid at 0x7fe838e38280>"
      ]
     },
     "execution_count": 29,
     "metadata": {},
     "output_type": "execute_result"
    },
    {
     "data": {
      "image/png": "[encoded data removed]",
      "text/plain": [
       "<Figure size 801.375x360 with 1 Axes>"
      ]
     },
     "metadata": {
      "needs_background": "light"
     },
     "output_type": "display_data"
    }
   ],
   "source": [
    "#plot disribution of age based on riders based on gender\n",
    "sns.displot(data=df, x=\"birth_year\", hue = \"gender\", multiple='stack', bins=range(1950, 2002), aspect=8/4, palette=\"Set3\")\n",
    "\n",
    "###female riders that also ride the citi bike heavily are alse born between 1980-1996"
   ]
  },
  {
   "cell_type": "markdown",
   "metadata": {},
   "source": [
    "### Stations"
   ]
  },
  {
   "cell_type": "code",
   "execution_count": 56,
   "metadata": {},
   "outputs": [
    {
     "data": {
      "image/png": "[encoded data removed]",
      "text/plain": [
       "<Figure size 864x504 with 1 Axes>"
      ]
     },
     "metadata": {
      "needs_background": "light"
     },
     "output_type": "display_data"
    }
   ],
   "source": [
    "#we'll look at the top 10 most popular bike stations to pick up from\n",
    "sstation = df['start_station_name'].value_counts()[:10]\n",
    "plt.figure(figsize=(12,7))\n",
    "sns.barplot( x=sstation.values , y=list(sstation.index), orient=\"h\", palette=\"Set3\")"
   ]
  },
  {
   "cell_type": "code",
   "execution_count": 57,
   "metadata": {},
   "outputs": [
    {
     "data": {
      "image/png": "[encoded data removed]",
      "text/plain": [
       "<Figure size 864x504 with 1 Axes>"
      ]
     },
     "metadata": {
      "needs_background": "light"
     },
     "output_type": "display_data"
    }
   ],
   "source": [
    "#we'll look at the top 10 most popular bike stations to drop off from\n",
    "estation = df['end_station_name'].value_counts()[:10]\n",
    "plt.figure(figsize=(12,7))\n",
    "sns.barplot( x=estation.values , y=list(estation.index), orient=\"h\", palette=\"Set3\")\n",
    "\n",
    "#intersting how pershing square north is the busiest station pick up and drop off stop"
   ]
  },
  {
   "cell_type": "markdown",
   "metadata": {},
   "source": [
    "<a id='conclusions'></a>\n",
    "## Conclusions:\n",
    "\n",
    "> Assumptions: \n",
    "    > In the spring and summer months there are higher users due to tourism\n",
    "    > There is an app to use a bike or to sign into an account to use one\n",
    "\n",
    "> The average trip by a citibike user is about 12.4 minutes, and riders are nearly all subscribers and men\n",
    "\n",
    "> Highest density of riders during early morning between 6 and 9, and the afternoon and late evening from 3 to 7\n",
    "\n",
    "> On the weekend there are far less citi bike riders than on the weekday\n",
    "\n",
    "> May to September definitely get more people riding due to the weather, longer days, and overall use.\n",
    "\n",
    "> We observed that the heavy riders are Gen Z and Millenials (1980 - 1996) and in terms of Gender there is about 2:1 Men vs Women\n",
    "\n",
    "> The top 10 busiest start stations are nearly the same end stations\n",
    "\n",
    "## Recommendations:\n",
    "\n",
    "> 1. Alta Bicycle Share should focus on running weekend camapigns where they can set up a 2-Day pass for the weekends during the high volume months to increase citi bike useage. This would help tourists get around but also allow locals to explore the city through a new method\n",
    "\n",
    "> 2. Alta Bicycle Share should run a marketing campaign for women to engage and empower them to safetly get to and from home to work or to their leisurely activities\n",
    "\n",
    "> 3. Since a majority of citi bike riders are Subscribe, Alta Bicycle Share should consider increasing the price of their annual subscription.\n",
    "\n",
    "> 4. Alta Bicycle Share should consider testing out if placing more bikes in the top 10 busiest Start and End stations will increase people in buying an annual membership or being a customer. \n",
    "\n",
    "> Extra: Although my code wwas crashing my kernal everytime. I manually googled some of these station locations, and Alta Bicycle Share should consider looking at merging the boroughs together."
   ]
  },
  {
   "cell_type": "code",
   "execution_count": null,
   "metadata": {},
   "outputs": [],
   "source": []
  }
 ],
 "metadata": {
  "kernelspec": {
   "display_name": "Python 3",
   "language": "python",
   "name": "python3"
  },
  "language_info": {
   "codemirror_mode": {
    "name": "ipython",
    "version": 3
   },
   "file_extension": ".py",
   "mimetype": "text/x-python",
   "name": "python",
   "nbconvert_exporter": "python",
   "pygments_lexer": "ipython3",
   "version": "3.8.2"
  }
 },
 "nbformat": 4,
 "nbformat_minor": 4
}
